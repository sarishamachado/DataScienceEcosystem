{
 "cells": [
  {
   "cell_type": "markdown",
   "id": "48e7e7cd-6a4e-4855-a11f-74e470c39f9b",
   "metadata": {},
   "source": [
    "# Data Science Tools and Ecosystem\n"
   ]
  },
  {
   "cell_type": "markdown",
   "id": "c119ee87-9223-4e0d-b5b9-bd57dda42b85",
   "metadata": {},
   "source": [
    "In this notebook, Data Science Tools and Ecosystem are summarized.\n"
   ]
  },
  {
   "cell_type": "markdown",
   "id": "1e03df9a-10b7-4e43-9da9-1a5341908db6",
   "metadata": {},
   "source": [
    "Some of the popular languages that Data Scientists use are:\n",
    "\n",
    "1. Python\n",
    "2. R\n",
    "3. SQL\n",
    "4. Julia\n"
   ]
  },
  {
   "cell_type": "markdown",
   "id": "5fb41d45-a429-44f7-85fe-a6018df57fd2",
   "metadata": {},
   "source": [
    "Some of the commonly used libraries used by Data Scientists include:\n",
    "\n",
    "1. NumPy\n",
    "2. pandas\n",
    "3. Matplotlib\n",
    "4. scikit-learn\n"
   ]
  },
  {
   "cell_type": "markdown",
   "id": "65dee146-ac09-46cd-87de-664d3488213a",
   "metadata": {},
   "source": [
    "| Data Science Tools |\n",
    "|--------------------|\n",
    "| Jupyter Notebook   |\n",
    "| Visual Studio Code |\n",
    "| RStudio            |\n"
   ]
  },
  {
   "cell_type": "markdown",
   "id": "b351538b-d0dc-4c31-b24d-c5a806223e8a",
   "metadata": {},
   "source": [
    "### Below are a few examples of evaluating arithmetic expressions in Python.\n"
   ]
  },
  {
   "cell_type": "code",
   "execution_count": 1,
   "id": "f12a113e-48ce-4cca-bfbc-ac5a494518f2",
   "metadata": {},
   "outputs": [
    {
     "name": "stdout",
     "output_type": "stream",
     "text": [
      "17\n"
     ]
    }
   ],
   "source": [
    "# This a simple arithmetic expression to multiply then add integers.\n",
    "# Evaluate (3*4) + 5\n",
    "result = (3 * 4) + 5\n",
    "print(result)\n"
   ]
  },
  {
   "cell_type": "code",
   "execution_count": 2,
   "id": "7425de1d-414e-41ac-8999-2ca2afbf3495",
   "metadata": {},
   "outputs": [
    {
     "name": "stdout",
     "output_type": "stream",
     "text": [
      "hours: 3.3333333333333335\n"
     ]
    }
   ],
   "source": [
    "# This will convert 200 minutes to hours by dividing by 60.\n",
    "minutes = 200\n",
    "\n",
    "\n",
    "hours = minutes / 60\n",
    "print(\"hours:\", hours)\n",
    "\n"
   ]
  },
  {
   "cell_type": "markdown",
   "id": "50be7868-c82f-415c-a925-f4964e37e055",
   "metadata": {},
   "source": [
    "**Objectives:**\n",
    "\n",
    "- List popular languages for Data Science.\n",
    "- List commonly used data science libraries.\n",
    "- Create simple Python arithmetic examples.\n",
    "- Create and share a Jupyter notebook on GitHub.\n"
   ]
  },
  {
   "cell_type": "markdown",
   "id": "51755c39-efa2-4bb2-bdb9-9bf90da2510b",
   "metadata": {},
   "source": [
    "## Author\n",
    "\n"
   ]
  },
  {
   "cell_type": "markdown",
   "id": "c98cad9e-768e-470a-b9d3-9c5dbf79f7f8",
   "metadata": {},
   "source": [
    "Sarisha Machado"
   ]
  }
 ],
 "metadata": {
  "kernelspec": {
   "display_name": "Python 3 (ipykernel)",
   "language": "python",
   "name": "python3"
  },
  "language_info": {
   "codemirror_mode": {
    "name": "ipython",
    "version": 3
   },
   "file_extension": ".py",
   "mimetype": "text/x-python",
   "name": "python",
   "nbconvert_exporter": "python",
   "pygments_lexer": "ipython3",
   "version": "3.12.6"
  }
 },
 "nbformat": 4,
 "nbformat_minor": 5
}
